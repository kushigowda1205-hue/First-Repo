{
 "cells": [
  {
   "cell_type": "code",
   "execution_count": null,
   "id": "d69880dc-7dde-4bfa-a433-405f906784b0",
   "metadata": {},
   "outputs": [],
   "source": [
    "\"netflix_title\"s (1).csvimport pandas as pd \n",
    "df=pd.read_csv()\n",
    "print(df.shape)\n",
    "print(df)\n",
    "before=df.shape[0]\n",
    "#droping duplicate values\n",
    "\n",
    "df=df.drop_duplicates()\n",
    "after=df.shape[0]\n",
    "print(\"Duplicates removed:\",before - after)\n",
    "df['date_added']=df['date_added'].astype(str).str.strip()\n",
    "#standardize text values\n",
    "\n",
    "df['title'] = df['title'].str.strip().str.lower()\n",
    "df['listed_in'] = df['listed_in'].str.strip().str.lower()\n",
    "df['description'] = df['description'].str.strip()\n",
    "df['country'] = df['country'].str.strip()\n",
    "df['director'] = df['director'].str.strip()\n",
    "\n",
    "# renaming column headers\n",
    "df.columns = df.columns.str.strip().str.lower().str.replace(\" \", \"_\")\n",
    "df.isnull().sum()\n",
    "df.info()\n",
    "print(df['date_added'])\n",
    "print(df['title'])\n",
    "print(df['listed_in'])\n",
    "print(df['description'])\n",
    "#renaming column headers\n",
    "df.columns = df.columns.str.strip().str.lower().str.replace(\" \", \"_\")\n",
    "#converting date formats\n",
    "df['date_added'] = pd.to_datetime(df['date_added'], errors='coerce')\n",
    "print(df['date_added'])\n",
    "#fixing data types\n",
    "df['year_added'] = df['date_added'].dt.year\n",
    "df['month_added'] = df['date_added'].dt.month\n",
    "df['release_year'] = df['release_year'].astype(int)\n",
    "print(df['year_added'])\n",
    "print(df['month_added'])\n",
    "print(df['release_year'])"
   ]
  }
 ],
 "metadata": {
  "kernelspec": {
   "display_name": "Python [conda env:base] *",
   "language": "python",
   "name": "conda-base-py"
  },
  "language_info": {
   "codemirror_mode": {
    "name": "ipython",
    "version": 3
   },
   "file_extension": ".py",
   "mimetype": "text/x-python",
   "name": "python",
   "nbconvert_exporter": "python",
   "pygments_lexer": "ipython3",
   "version": "3.13.5"
  }
 },
 "nbformat": 4,
 "nbformat_minor": 5
}
